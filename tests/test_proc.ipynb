{
 "cells": [
  {
   "cell_type": "markdown",
   "id": "645482a1-1c88-4250-a0cd-6a68c316ffbe",
   "metadata": {},
   "source": [
    "# Módulo de processamento"
   ]
  },
  {
   "cell_type": "markdown",
   "id": "0890a794-e7fb-408b-aefe-92f30599f77c",
   "metadata": {},
   "source": [
    "## Requisito 1 - Desenvolvimento da função de soma"
   ]
  },
  {
   "cell_type": "code",
   "execution_count": 1,
   "id": "9ac31a08-9f16-43e2-9a47-5a4ca651c2df",
   "metadata": {
    "tags": []
   },
   "outputs": [
    {
     "data": {
      "text/plain": [
       "5"
      ]
     },
     "execution_count": 1,
     "metadata": {},
     "output_type": "execute_result"
    }
   ],
   "source": [
    "2 + 3"
   ]
  },
  {
   "cell_type": "code",
   "execution_count": 3,
   "id": "ececae26-43bf-40b8-b069-68e4f9a0084e",
   "metadata": {
    "tags": []
   },
   "outputs": [
    {
     "data": {
      "text/plain": [
       "10"
      ]
     },
     "execution_count": 3,
     "metadata": {},
     "output_type": "execute_result"
    }
   ],
   "source": [
    "x = 4\n",
    "y = 6\n",
    "x + y"
   ]
  },
  {
   "cell_type": "code",
   "execution_count": 5,
   "id": "fa674b89-1cd4-4497-9728-2599ca7f3a43",
   "metadata": {
    "tags": []
   },
   "outputs": [
    {
     "name": "stdout",
     "output_type": "stream",
     "text": [
      "10\n"
     ]
    }
   ],
   "source": [
    "z = x + y \n",
    "print(z)"
   ]
  },
  {
   "cell_type": "code",
   "execution_count": 6,
   "id": "abdabfa2-183f-42b8-aaf9-7036a35e824e",
   "metadata": {
    "tags": []
   },
   "outputs": [
    {
     "data": {
      "text/plain": [
       "13"
      ]
     },
     "execution_count": 6,
     "metadata": {},
     "output_type": "execute_result"
    }
   ],
   "source": [
    "def somadora(x, y):\n",
    "    return x + y\n",
    "\n",
    "somadora(5,8)"
   ]
  },
  {
   "cell_type": "code",
   "execution_count": 7,
   "id": "7c5b33a2-0c61-4c67-aea8-c55197ce4292",
   "metadata": {
    "tags": []
   },
   "outputs": [
    {
     "data": {
      "text/plain": [
       "11"
      ]
     },
     "execution_count": 7,
     "metadata": {},
     "output_type": "execute_result"
    }
   ],
   "source": [
    "def somadora(numero1: float, numero2: float) -> float:\n",
    "    \"\"\"Esta função pega dois números reais e retorna a soma deles\"\"\"\n",
    "    return numero1 + numero2\n",
    "\n",
    "somadora(7,4)"
   ]
  },
  {
   "cell_type": "code",
   "execution_count": 8,
   "id": "556f6c3b-f174-4f75-a7dc-e02aa0276d4e",
   "metadata": {
    "tags": []
   },
   "outputs": [
    {
     "ename": "TypeError",
     "evalue": "unsupported operand type(s) for /: 'str' and 'str'",
     "output_type": "error",
     "traceback": [
      "\u001b[1;31m---------------------------------------------------------------------------\u001b[0m",
      "\u001b[1;31mTypeError\u001b[0m                                 Traceback (most recent call last)",
      "Cell \u001b[1;32mIn[8], line 9\u001b[0m\n\u001b[0;32m      6\u001b[0m         resultado \u001b[38;5;241m=\u001b[39m numero1\u001b[38;5;241m/\u001b[39mnumero2\n\u001b[0;32m      7\u001b[0m     \u001b[38;5;28;01mreturn\u001b[39;00m resultado\n\u001b[1;32m----> 9\u001b[0m div(\u001b[38;5;124m\"\u001b[39m\u001b[38;5;124mcasa\u001b[39m\u001b[38;5;124m\"\u001b[39m, \u001b[38;5;124m\"\u001b[39m\u001b[38;5;124mbarriga\u001b[39m\u001b[38;5;124m\"\u001b[39m)\n",
      "Cell \u001b[1;32mIn[8], line 6\u001b[0m, in \u001b[0;36mdiv\u001b[1;34m(numero1, numero2)\u001b[0m\n\u001b[0;32m      4\u001b[0m     resultado \u001b[38;5;241m=\u001b[39m \u001b[38;5;124m\"\u001b[39m\u001b[38;5;124mNão existe divisão por zero.\u001b[39m\u001b[38;5;124m\"\u001b[39m\n\u001b[0;32m      5\u001b[0m \u001b[38;5;28;01melse\u001b[39;00m:\n\u001b[1;32m----> 6\u001b[0m     resultado \u001b[38;5;241m=\u001b[39m numero1\u001b[38;5;241m/\u001b[39mnumero2\n\u001b[0;32m      7\u001b[0m \u001b[38;5;28;01mreturn\u001b[39;00m resultado\n",
      "\u001b[1;31mTypeError\u001b[0m: unsupported operand type(s) for /: 'str' and 'str'"
     ]
    }
   ],
   "source": [
    "def div(numero1: float, numero2: float) -> float:\n",
    "    \"\"\"Esta função pega dois números reais e retorna a soma deles\"\"\"\n",
    "    if numero2 == 0:\n",
    "        resultado = \"Não existe divisão por zero.\"\n",
    "    else:\n",
    "        resultado = numero1/numero2\n",
    "    return resultado\n",
    "\n",
    "div(\"casa\", \"barriga\")"
   ]
  },
  {
   "cell_type": "code",
   "execution_count": null,
   "id": "738d91c2-dd69-4d24-8a94-9eee9ee61853",
   "metadata": {},
   "outputs": [],
   "source": []
  }
 ],
 "metadata": {
  "kernelspec": {
   "display_name": "Python 3 (ipykernel)",
   "language": "python",
   "name": "python3"
  },
  "language_info": {
   "codemirror_mode": {
    "name": "ipython",
    "version": 3
   },
   "file_extension": ".py",
   "mimetype": "text/x-python",
   "name": "python",
   "nbconvert_exporter": "python",
   "pygments_lexer": "ipython3",
   "version": "3.11.5"
  }
 },
 "nbformat": 4,
 "nbformat_minor": 5
}
