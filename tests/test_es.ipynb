{
 "cells": [
  {
   "cell_type": "markdown",
   "id": "322425f6-a729-4e67-93f9-2261a971def3",
   "metadata": {},
   "source": [
    "# Módulo de entrada e saída\n",
    "\n",
    "Este módulo oferece funções de entrada e saída de dados."
   ]
  },
  {
   "cell_type": "code",
   "execution_count": 6,
   "id": "72f4732a-b6af-4b41-bd39-27bdbae74c1d",
   "metadata": {
    "tags": []
   },
   "outputs": [
    {
     "name": "stdin",
     "output_type": "stream",
     "text": [
      "Digite o primeiro número que deseja operar 6\n"
     ]
    }
   ],
   "source": [
    "# Entrada de dados\n",
    "\n",
    "numero1 = input(\"Digite o primeiro número que deseja operar\")\n"
   ]
  },
  {
   "cell_type": "code",
   "execution_count": 7,
   "id": "2098e927-4e9e-4ada-b8a0-dee6a3510163",
   "metadata": {
    "tags": []
   },
   "outputs": [
    {
     "data": {
      "text/plain": [
       "'6'"
      ]
     },
     "execution_count": 7,
     "metadata": {},
     "output_type": "execute_result"
    }
   ],
   "source": [
    "numero1"
   ]
  },
  {
   "cell_type": "code",
   "execution_count": 8,
   "id": "b0c8fbbc-edf3-4b3e-ad16-588532a395ec",
   "metadata": {
    "tags": []
   },
   "outputs": [
    {
     "ename": "TypeError",
     "evalue": "can only concatenate str (not \"int\") to str",
     "output_type": "error",
     "traceback": [
      "\u001b[1;31m---------------------------------------------------------------------------\u001b[0m",
      "\u001b[1;31mTypeError\u001b[0m                                 Traceback (most recent call last)",
      "Cell \u001b[1;32mIn[8], line 1\u001b[0m\n\u001b[1;32m----> 1\u001b[0m numero1\u001b[38;5;241m+\u001b[39m \u001b[38;5;241m5\u001b[39m\n",
      "\u001b[1;31mTypeError\u001b[0m: can only concatenate str (not \"int\") to str"
     ]
    }
   ],
   "source": [
    "numero1+ 5"
   ]
  },
  {
   "cell_type": "code",
   "execution_count": 9,
   "id": "b6fdd531-e277-4784-9681-3f3942f6df6a",
   "metadata": {
    "tags": []
   },
   "outputs": [
    {
     "name": "stdin",
     "output_type": "stream",
     "text": [
      "Digite o primeiro número que deseja operar 6\n"
     ]
    }
   ],
   "source": [
    "# Transformei a entrada de dados em um número do tipo float\n",
    "\n",
    "numero1 = float(input(\"Digite o primeiro número que deseja operar\"))\n"
   ]
  },
  {
   "cell_type": "code",
   "execution_count": 10,
   "id": "96766983-2f62-4ea5-8f7d-fffd26332294",
   "metadata": {
    "tags": []
   },
   "outputs": [
    {
     "data": {
      "text/plain": [
       "14.0"
      ]
     },
     "execution_count": 10,
     "metadata": {},
     "output_type": "execute_result"
    }
   ],
   "source": [
    "numero1+8"
   ]
  },
  {
   "cell_type": "code",
   "execution_count": 11,
   "id": "54833685-746c-4489-ae41-66acc382d988",
   "metadata": {
    "tags": []
   },
   "outputs": [
    {
     "name": "stdin",
     "output_type": "stream",
     "text": [
      "Digite o primeiro número que deseja operar 5\n",
      "Digite o primeiro número que deseja operar 7\n"
     ]
    },
    {
     "data": {
      "text/plain": [
       "[5.0, 7.0]"
      ]
     },
     "execution_count": 11,
     "metadata": {},
     "output_type": "execute_result"
    }
   ],
   "source": [
    "# Função que lê dois números\n",
    "def leitora_numeros():\n",
    "    i = 0\n",
    "    numeros = []\n",
    "    while i < 2:\n",
    "        numeros.append(float(input(\"Digite o primeiro número que deseja operar\")))\n",
    "        i+=1\n",
    "    return numeros\n",
    "        "
   ]
  },
  {
   "cell_type": "code",
   "execution_count": 16,
   "id": "9c07c1ae-3a25-45bd-9693-dc66cd4dd572",
   "metadata": {
    "tags": []
   },
   "outputs": [],
   "source": [
    "# Função que lê dois números sem repetir a frase\n",
    "def leitora_numeros() -> list:\n",
    "    \"\"\" Esta função faz isso\"\"\"\n",
    "    i = 0\n",
    "    numeros = []\n",
    "    while i < 2:\n",
    "        numeros.append(float(input(f\"Digite o número {i+1} que deseja operar\")))\n",
    "        i+=1\n",
    "    return numeros\n",
    "        \n"
   ]
  },
  {
   "cell_type": "code",
   "execution_count": 17,
   "id": "2f861492-2573-438a-ad94-a32d2dd88a36",
   "metadata": {
    "tags": []
   },
   "outputs": [
    {
     "name": "stdin",
     "output_type": "stream",
     "text": [
      "Digite a operação que deseja realizar.\n",
      "Pressione + para adição;\n",
      "- para subtração;\n",
      "* para multiplicação;\n",
      "/ para divisão -\n"
     ]
    }
   ],
   "source": [
    "# Função que lê a operação que deve ser executada\n",
    "\n",
    "operacao = input(\"\"\"Digite a operação que deseja realizar.\n",
    "Pressione + para adição;\n",
    "- para subtração;\n",
    "* para multiplicação;\n",
    "/ para divisão\"\"\")"
   ]
  },
  {
   "cell_type": "code",
   "execution_count": 18,
   "id": "ac1f59fe-6cea-40b4-bae1-10f3b775f380",
   "metadata": {
    "tags": []
   },
   "outputs": [],
   "source": [
    "def leitora_operacao() -> str:\n",
    "    operacao = input(\"\"\"Digite a operação que deseja realizar.\n",
    "Pressione + para adição;\n",
    "- para subtração;\n",
    "* para multiplicação;\n",
    "/ para divisão\"\"\")\n",
    "    return operacao\n",
    "    "
   ]
  },
  {
   "cell_type": "code",
   "execution_count": 19,
   "id": "a5338d95-0949-4799-a39a-9642e7c295e8",
   "metadata": {
    "tags": []
   },
   "outputs": [
    {
     "name": "stdin",
     "output_type": "stream",
     "text": [
      "Digite o número 1 que deseja operar 1\n",
      "Digite o número 2 que deseja operar 2\n",
      "Digite a operação que deseja realizar.\n",
      "Pressione + para adição;\n",
      "- para subtração;\n",
      "* para multiplicação;\n",
      "/ para divisão +\n"
     ]
    },
    {
     "data": {
      "text/plain": [
       "[[1.0, 2.0], '+']"
      ]
     },
     "execution_count": 19,
     "metadata": {},
     "output_type": "execute_result"
    }
   ],
   "source": [
    "def leitora() -> list:\n",
    "    lista_numeros = leitora_numeros()\n",
    "    operacao = leitora_operacao()\n",
    "    return [lista_numeros, operacao]\n",
    "\n",
    "leitora()"
   ]
  },
  {
   "cell_type": "markdown",
   "id": "09a8a479-2b48-4987-938d-169336509f50",
   "metadata": {},
   "source": [
    "## Função de saída de dados\n",
    "\n"
   ]
  },
  {
   "cell_type": "code",
   "execution_count": 20,
   "id": "c4c6ad76-90e7-47cd-a4f8-52573bc3fb24",
   "metadata": {
    "tags": []
   },
   "outputs": [
    {
     "name": "stdout",
     "output_type": "stream",
     "text": [
      "2\n"
     ]
    }
   ],
   "source": [
    "resultado =  2\n",
    "\n",
    "print(resultado)"
   ]
  },
  {
   "cell_type": "code",
   "execution_count": 22,
   "id": "5b0828cf-d433-4901-be7e-2a143a0469c5",
   "metadata": {
    "tags": []
   },
   "outputs": [
    {
     "name": "stdout",
     "output_type": "stream",
     "text": [
      "O resultado da  operação é igual a 2.\n"
     ]
    }
   ],
   "source": [
    "print(f\"O resultado da  operação é igual a {resultado}.\")"
   ]
  },
  {
   "cell_type": "code",
   "execution_count": 23,
   "id": "90c49da5-ecaa-4e80-9bc8-a348b0acc3fb",
   "metadata": {
    "tags": []
   },
   "outputs": [
    {
     "name": "stdout",
     "output_type": "stream",
     "text": [
      "O resultado da  operação é igual a 9.\n"
     ]
    }
   ],
   "source": [
    "def escritora(resultado):\n",
    "    print(f\"O resultado da  operação é igual a {resultado}.\")\n",
    "\n",
    "    \n",
    "resultado = 9\n",
    "\n",
    "escritora(resultado)\n",
    "    "
   ]
  },
  {
   "cell_type": "code",
   "execution_count": null,
   "id": "e9225e42-72aa-4e78-83bf-8d847592f2e1",
   "metadata": {},
   "outputs": [],
   "source": [
    "def escritora(resultado: float) -> None:\n",
    "    \"\"\"Esta função coloca o resultado na tela.\"\"\"\n",
    "    print(f\"O resultado da  operação é igual a {resultado}.\")\n"
   ]
  }
 ],
 "metadata": {
  "kernelspec": {
   "display_name": "Python 3 (ipykernel)",
   "language": "python",
   "name": "python3"
  },
  "language_info": {
   "codemirror_mode": {
    "name": "ipython",
    "version": 3
   },
   "file_extension": ".py",
   "mimetype": "text/x-python",
   "name": "python",
   "nbconvert_exporter": "python",
   "pygments_lexer": "ipython3",
   "version": "3.11.5"
  }
 },
 "nbformat": 4,
 "nbformat_minor": 5
}
