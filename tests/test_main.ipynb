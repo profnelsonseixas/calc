{
 "cells": [
  {
   "cell_type": "markdown",
   "id": "c5eb9e65-1852-4976-b6be-8c3692e02a2c",
   "metadata": {},
   "source": [
    "# Módulo Principal"
   ]
  },
  {
   "cell_type": "code",
   "execution_count": 1,
   "id": "a53b15a6-9e5d-451a-a1bf-20a9c9c9ecd4",
   "metadata": {
    "tags": []
   },
   "outputs": [],
   "source": [
    "# Importação dos módulos\n",
    "\n",
    "import test_es\n",
    "import test_proc\n"
   ]
  },
  {
   "cell_type": "code",
   "execution_count": 4,
   "id": "ea52a7c0-912c-4eed-ac2b-11ee4716546d",
   "metadata": {
    "tags": []
   },
   "outputs": [
    {
     "name": "stdin",
     "output_type": "stream",
     "text": [
      "Digite o número 1 que deseja operar 2\n",
      "Digite o número 2 que deseja operar 3\n",
      "Digite a operação que deseja realizar.\n",
      "Pressione + para adição;\n",
      "- para subtração;\n",
      "* para multiplicação;\n",
      "/ para divisão *\n"
     ]
    }
   ],
   "source": [
    "dados = test_es.leitora()"
   ]
  },
  {
   "cell_type": "code",
   "execution_count": 5,
   "id": "4519f458-ff18-4fb2-ae1a-2636c78e5d28",
   "metadata": {
    "tags": []
   },
   "outputs": [
    {
     "data": {
      "text/plain": [
       "[[2.0, 3.0], '*']"
      ]
     },
     "execution_count": 5,
     "metadata": {},
     "output_type": "execute_result"
    }
   ],
   "source": [
    "dados"
   ]
  },
  {
   "cell_type": "code",
   "execution_count": 8,
   "id": "2500f20e-f33a-4543-8381-ecc28ff77db3",
   "metadata": {
    "tags": []
   },
   "outputs": [],
   "source": [
    "if dados[1] == \"+\":\n",
    "    resultado = test_proc.somadora(dados[0][0], dados[0][1])\n",
    "elif dados[1] == \"-\":\n",
    "    resultado = test_proc.diminuidora(dados[0][0], dados[0][1])\n",
    "elif dados[1] == \"*\":\n",
    "    resultado = test_proc.mult(dados[0][0], dados[0][1])\n",
    "else:\n",
    "    resultado = test_proc.div(dados[0][0], dados[0][1])\n",
    "    \n",
    "    "
   ]
  },
  {
   "cell_type": "code",
   "execution_count": null,
   "id": "a4a3d00b-f3d0-430e-8d92-fe6d4cc164cc",
   "metadata": {},
   "outputs": [],
   "source": [
    "def escolhedora(dados: list) -> float:\n",
    "    \"\"\"Esta função escolhe a operação adequada de acordo com o usuário.\"\"\"\n",
    "    if dados[1] == \"+\":\n",
    "        resultado = test_proc.somadora(dados[0][0], dados[0][1])\n",
    "    elif dados[1] == \"-\":\n",
    "        resultado = test_proc.diminuidora(dados[0][0], dados[0][1])\n",
    "    elif dados[1] == \"*\":\n",
    "        resultado = test_proc.mult(dados[0][0], dados[0][1])\n",
    "    else:\n",
    "        resultado = test_proc.div(dados[0][0], dados[0][1])\n",
    "    return resultado\n",
    "    "
   ]
  }
 ],
 "metadata": {
  "kernelspec": {
   "display_name": "Python 3 (ipykernel)",
   "language": "python",
   "name": "python3"
  },
  "language_info": {
   "codemirror_mode": {
    "name": "ipython",
    "version": 3
   },
   "file_extension": ".py",
   "mimetype": "text/x-python",
   "name": "python",
   "nbconvert_exporter": "python",
   "pygments_lexer": "ipython3",
   "version": "3.11.5"
  }
 },
 "nbformat": 4,
 "nbformat_minor": 5
}
